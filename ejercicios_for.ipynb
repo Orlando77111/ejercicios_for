{
  "nbformat": 4,
  "nbformat_minor": 0,
  "metadata": {
    "colab": {
      "provenance": [],
      "authorship_tag": "ABX9TyNpivivgTlZKGDsI/rxaBb9",
      "include_colab_link": true
    },
    "kernelspec": {
      "name": "python3",
      "display_name": "Python 3"
    },
    "language_info": {
      "name": "python"
    }
  },
  "cells": [
    {
      "cell_type": "markdown",
      "metadata": {
        "id": "view-in-github",
        "colab_type": "text"
      },
      "source": [
        "<a href=\"https://colab.research.google.com/github/Orlando77111/ejercicios_for/blob/main/ejercicios_for.ipynb\" target=\"_parent\"><img src=\"https://colab.research.google.com/assets/colab-badge.svg\" alt=\"Open In Colab\"/></a>"
      ]
    },
    {
      "cell_type": "markdown",
      "source": [
        "# INSTRUCCION REPETITIVA FOR"
      ],
      "metadata": {
        "id": "PQt0sChLq64V"
      }
    },
    {
      "cell_type": "code",
      "execution_count": null,
      "metadata": {
        "id": "0fMnJ0wPqZ4-"
      },
      "outputs": [],
      "source": [
        "# ejercicio1: mostrar los numeros del 1 al 10 sin usae untrucciones repetitivas\n",
        "\n",
        "print(1)\n",
        "print(2)\n",
        "print(3)\n",
        "print(4)\n",
        "print(5)\n",
        "print(6)\n",
        "print(7)\n",
        "print(8)\n",
        "print(9)\n",
        "print(10)"
      ]
    },
    {
      "cell_type": "code",
      "source": [
        "# Ejercicio 2: mostrar los numeros del 1 al 10, usando la intruccion while\n",
        "\n",
        "contador = 1\n",
        "print(contador)\n",
        "while contador <10:\n",
        "  #contador = contador + 1\n",
        "  contador+=1\n",
        "  print(contador)"
      ],
      "metadata": {
        "id": "qFZmXGRBtdkH"
      },
      "execution_count": null,
      "outputs": []
    },
    {
      "cell_type": "code",
      "source": [
        "# ejercicio 3: mostrar los numeros del 1 al 10 utilizando la intruccion for y una lista interable\n",
        "\n",
        "lista = [1,2,3,4,5,6,7,8,9,10]\n",
        "for i in lista:\n",
        "  print(i)\n"
      ],
      "metadata": {
        "id": "B79DSYaBvNUd"
      },
      "execution_count": null,
      "outputs": []
    },
    {
      "cell_type": "code",
      "source": [
        "# ejercicio 4: Mostrar los numeros del 1 al 10 usando la instruccion for y la funcion range\n",
        "\n",
        "for i in range(1,11):\n",
        "  print(i)"
      ],
      "metadata": {
        "id": "BYuU5TM9wuvQ"
      },
      "execution_count": null,
      "outputs": []
    },
    {
      "cell_type": "code",
      "source": [
        "# ejercicio 5: mostrar una frace 10 veses usando la intruccion for y una lista\n",
        "\n",
        "lista = [1,2,3,4,5,6,7,8,9,10]\n",
        "for i in lista:\n",
        "  print(f\"{i} Sistemas el mejor \")\n"
      ],
      "metadata": {
        "colab": {
          "base_uri": "https://localhost:8080/"
        },
        "id": "EiqmnQ1HxfGp",
        "outputId": "55c7cf2e-068a-41a9-d629-e9de26978352"
      },
      "execution_count": 17,
      "outputs": [
        {
          "output_type": "stream",
          "name": "stdout",
          "text": [
            "1 Sistemas el mejor \n",
            "2 Sistemas el mejor \n",
            "3 Sistemas el mejor \n",
            "4 Sistemas el mejor \n",
            "5 Sistemas el mejor \n",
            "6 Sistemas el mejor \n",
            "7 Sistemas el mejor \n",
            "8 Sistemas el mejor \n",
            "9 Sistemas el mejor \n",
            "10 Sistemas el mejor \n"
          ]
        }
      ]
    },
    {
      "cell_type": "code",
      "source": [
        "# ejercicio 6: mostrar la silaba inicial de los dias de la semana, usando for y una lista con la silaba inicial de los dias de la semana\n",
        "\n",
        "dias_semana = [\"lu\",\"ma\",\"ml\",\"ju\",\"vi\",\"sa\",\"do\"]\n",
        "for i in dias_semana:\n",
        "  print(i)"
      ],
      "metadata": {
        "id": "DAzLFOYuynQA"
      },
      "execution_count": null,
      "outputs": []
    },
    {
      "cell_type": "code",
      "source": [
        "# ejercicio 7: mostrar una lista de distintos tipos de datos, usando for\n",
        "\n",
        "lista = [1,3.4,9,True, \"Nestror\", 8, \"Guanenta\"]\n",
        "for i in lista:\n",
        "  print(i)"
      ],
      "metadata": {
        "id": "vaR35U-qzn0E"
      },
      "execution_count": null,
      "outputs": []
    },
    {
      "cell_type": "code",
      "source": [
        "# ejercicio 8: ingrese su nombre letra por letra usando for\n",
        "\n",
        "nombre = input(\"Digite su nombre: \")\n",
        "for letra in nombre:\n",
        "  print(letra)\n"
      ],
      "metadata": {
        "id": "5wggrvfY0ZqJ"
      },
      "execution_count": null,
      "outputs": []
    },
    {
      "cell_type": "code",
      "source": [
        "# ejercicio 9: ingrese su nombre y mostrarlo letra a letra usando for y cambiando por * la letra e\n",
        "\n",
        "nombre = input(\"Digite su nombre: \")\n",
        "for letra in nombre:\n",
        "  if letra == 'e':\n",
        "    print(\"*\")\n",
        "  else:\n",
        "    print(letra)\n",
        "    "
      ],
      "metadata": {
        "id": "DUefHOz90_mn"
      },
      "execution_count": null,
      "outputs": []
    },
    {
      "cell_type": "code",
      "source": [
        "# ejercicio 10: ingresar su nombre y mostrarlo en letra mayuscula usando for\n",
        "\n",
        "nombre = input(\"Ingrese su nombre: \")\n",
        "for letra in nombre:\n",
        "  print(letra.upper())"
      ],
      "metadata": {
        "id": "5SqHToD3ADO4"
      },
      "execution_count": null,
      "outputs": []
    },
    {
      "cell_type": "code",
      "source": [
        "# ejercicio 11: imprimir listas de numeros usando for y range\n",
        "\n",
        "print(\"Numeros del 0 al 9 \")\n",
        "for i in range(10):\n",
        "  print(i)\n",
        "\n",
        "print(\"Numeros del 1 al 10\")\n",
        "for i in range(1,11):\n",
        "  print(i)\n",
        "\n",
        "print(\"10 veses la frace\")\n",
        "for i in range(10):\n",
        "  print(\"Sistemas la mejor \")\n",
        "\n",
        "print(\"10 veses la frase i = \")\n",
        "for i in range(10):\n",
        "  print(\"i =\" str(i))\n",
        "\n",
        "print(\"10 veses la frase i = \")\n",
        "for i in range(10):\n",
        "  print(f\"i = {i}\")\n",
        "\n",
        "print(\"Rando de 7 al 18, incrementando de 4 en cuatro\")\n",
        "for i in range(7,19,4):\n",
        "  print(i)\n",
        "\n",
        "print(\"Convierte rangoen lista a, y la muestra\")\n",
        "a = list(range(1000))\n",
        "print(a)"
      ],
      "metadata": {
        "id": "7-PfsQ42BIxE"
      },
      "execution_count": null,
      "outputs": []
    },
    {
      "cell_type": "markdown",
      "source": [
        "# Ejercicios\n",
        "1. Dadas las siguientes listas de números, [20,21,30,41,50,51,201] mostrar en pantalla solo los que no terminan en 1.\n",
        "2. Mostrar 1000 veses la palabra \"Programacion\"\n",
        "3. del conjunto de cadena [\"E\",\"F\",\"M\",\"A\"] que corresponden a los primeros meses del año, mostrar el nombre completo de dichos meses.\n",
        "\n",
        "4. leer un texto y determinar cuantas veces dicho textocontiene cada una de las vocales en minuscula y/o mayuscula\n",
        "\n"
      ],
      "metadata": {
        "id": "fY2J5lwSGnW_"
      }
    },
    {
      "cell_type": "code",
      "source": [
        "# problema 1\n",
        "\n",
        "numeros = [20, 21, 30, 41, 50, 201]\n",
        "for numero in numeros:\n",
        "    if numero %10 != 1: \n",
        "        print(numero)\n"
      ],
      "metadata": {
        "id": "qnb89CmJKjNo"
      },
      "execution_count": null,
      "outputs": []
    },
    {
      "cell_type": "code",
      "source": [
        "# problema 2\n",
        "\n",
        "for i in range(1001):\n",
        "  print(f\"{i} Programacion\")\n"
      ],
      "metadata": {
        "id": "fEguBSDHNUw-"
      },
      "execution_count": null,
      "outputs": []
    },
    {
      "cell_type": "code",
      "source": [
        "# problema 3\n",
        "\n",
        "iniciales_mes = [\"E\",\"F\",\"M\",\"A\"]\n",
        "meses_año = [\"Enero\",\"Febrero\",\"Marzo\",\"Abril\"]\n",
        "\n",
        "for i in meses_año:\n",
        "  print(i)"
      ],
      "metadata": {
        "id": "r-Ll-1hkN3aD"
      },
      "execution_count": null,
      "outputs": []
    },
    {
      "cell_type": "code",
      "source": [
        "# problema 4\n",
        "\n",
        "texto = \"Este es un ejemplo de texto para contar vocales\"\n",
        "vocales = \"aeiouAEIOU\"  # todas las vocales, en mayúsculas y minúsculas\n",
        "contador = 0\n",
        "\n",
        "for letra in texto:\n",
        "    if letra in vocales:\n",
        "        contador += 1\n",
        "\n",
        "print(\"El texto contiene\", contador, \"vocales\")"
      ],
      "metadata": {
        "colab": {
          "base_uri": "https://localhost:8080/"
        },
        "id": "JTN5RSIMPf1C",
        "outputId": "17fc58b1-22e2-4a11-9187-c8ec8ce3c173"
      },
      "execution_count": 22,
      "outputs": [
        {
          "output_type": "stream",
          "name": "stdout",
          "text": [
            "El texto contiene 17 vocales\n"
          ]
        }
      ]
    }
  ]
}